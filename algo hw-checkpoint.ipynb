{
 "cells": [
  {
   "cell_type": "markdown",
   "id": "ab9ac45d",
   "metadata": {},
   "source": [
    "# algo homework"
   ]
  },
  {
   "cell_type": "markdown",
   "id": "3da581af",
   "metadata": {},
   "source": [
    "### Exercise #1 <br>\n",
    "<p>Reverse the list below in-place using an in-place algorithm.<br>For extra credit: Reverse the strings at the same time.</p>"
   ]
  },
  {
   "cell_type": "code",
   "execution_count": null,
   "id": "a522e8a6",
   "metadata": {},
   "outputs": [],
   "source": [
    "words = ['this' , 'is', 'a', 'sentence', '.']\n",
    "\n",
    "def revlist(a_list):\n",
    "\n",
    "    \n",
    "\n",
    "    i = 0\n",
    "    j = len(a_list) -1\n",
    "\n",
    "    while i < j:\n",
    "\n",
    "        a_list[i], a_list[j] = a_list[j],a_list[i]\n",
    "        i += 1\n",
    "        j -= 1\n",
    "        \n",
    "    reverse = lambda i : i[::-1]\n",
    "    return list(map(reverse, a_list))\n",
    "        \n",
    "#     for word in a_list:\n",
    "#         return a_list[0:][::-1]\n",
    "#     return(a_list)\n",
    "\n",
    "    \n",
    "\n",
    "#     while a_list[indx][i_s] > a_list[indx][j_s]:\n",
    "\n",
    "#         a_list[:-1][i_s],a_list[:-1][j_s] = a_list[:-1][j_s], a_list[:-1][i_s]\n",
    "#         i_s +=1\n",
    "#         j_s -=1\n",
    "\n",
    "\n",
    "    \n",
    "\n",
    "    \n",
    "revlist(words)  "
   ]
  },
  {
   "cell_type": "markdown",
   "id": "f66bd8b2",
   "metadata": {},
   "source": [
    "### Exercise #2 <br>\n",
    "<p>Create a function that counts how many distinct words are in the string below, then outputs a dictionary with the words as the key and the value as the amount of times that word appears in the string.<br>Should output:<br>{'a': 5,<br>\n",
    " 'abstract': 1,<br>\n",
    " 'an': 3,<br>\n",
    " 'array': 2, ... etc...</p>"
   ]
  },
  {
   "cell_type": "code",
   "execution_count": 8,
   "id": "3a7a4a58",
   "metadata": {},
   "outputs": [
    {
     "data": {
      "text/plain": [
       "{'In': 1,\n",
       " 'computing,': 1,\n",
       " 'a': 4,\n",
       " 'hash': 4,\n",
       " 'table': 2,\n",
       " 'map': 2,\n",
       " 'is': 1,\n",
       " 'data': 2,\n",
       " 'structure': 2,\n",
       " 'which': 2,\n",
       " 'implements': 1,\n",
       " 'an': 3,\n",
       " 'associative': 1,\n",
       " 'array': 2,\n",
       " 'abstract': 1,\n",
       " 'type,': 1,\n",
       " 'that': 1,\n",
       " 'can': 2,\n",
       " 'keys': 1,\n",
       " 'to': 2,\n",
       " 'values.': 1,\n",
       " 'A': 1,\n",
       " 'uses': 1,\n",
       " 'function': 1,\n",
       " 'compute': 1,\n",
       " 'index': 1,\n",
       " 'into': 1,\n",
       " 'of': 1,\n",
       " 'buckets': 1,\n",
       " 'or': 1,\n",
       " 'slots': 1,\n",
       " 'from': 1,\n",
       " 'the': 1,\n",
       " 'desired': 1,\n",
       " 'value': 1,\n",
       " 'be': 1,\n",
       " 'found': 1}"
      ]
     },
     "execution_count": 8,
     "metadata": {},
     "output_type": "execute_result"
    }
   ],
   "source": [
    "a_text = 'In computing, a hash table hash map is a data structure which implements an associative array abstract data type, a structure that can map keys to values. A hash table uses a hash function to compute an index into an array of buckets or slots from which the desired value can be found'\n",
    "\n",
    "def countstr(x):\n",
    "    \n",
    "    \n",
    "    list1=[]\n",
    "    a_txt_d = {}\n",
    "    s_txt = a_text.split(' ')\n",
    "    \n",
    "    for word in s_txt:\n",
    "        if word in a_txt_d:\n",
    "            a_txt_d[word] += 1\n",
    "        else:\n",
    "            a_txt_d[word] = 1\n",
    "            \n",
    "    return a_txt_d\n",
    "# alist.sort(key = lambda s_txt: x.split()[-1].lower() )\n",
    "        \n",
    "#     list1 = [counts[word] +-1 for word in words if word in counts else counts[word] =1]\n",
    "#     list2 = [for word in words if word in counts]\n",
    "    \n",
    "#     for word in a_text_li:\n",
    "#         a_text_d.update({word:0})\n",
    "#         a_text_d[word] = a_text_d.get(word,0) +1\n",
    "        \n",
    "\n",
    "        \n",
    "#         a_text_li[word]\n",
    "#         nl.append(+= 1)\n",
    "        \n",
    "#     print(list1)\n",
    "    print(s_txt)\n",
    "\n",
    "   \n",
    "    \n",
    "    \n",
    "countstr(a_text)"
   ]
  },
  {
   "cell_type": "code",
   "execution_count": null,
   "id": "1e91cc29",
   "metadata": {},
   "outputs": [],
   "source": []
  },
  {
   "cell_type": "markdown",
   "id": "0218a292",
   "metadata": {},
   "source": [
    "## Exercise #3\n",
    "\n",
    "Write a program to implement a Linear Search Algorithm. Also in a comment, write the Time Complexity of the following algorithm.\n",
    "\n",
    "#### Hint: Linear Searching will require searching a list for a given number. "
   ]
  }
 ],
 "metadata": {
  "kernelspec": {
   "display_name": "Python 3 (ipykernel)",
   "language": "python",
   "name": "python3"
  },
  "language_info": {
   "codemirror_mode": {
    "name": "ipython",
    "version": 3
   },
   "file_extension": ".py",
   "mimetype": "text/x-python",
   "name": "python",
   "nbconvert_exporter": "python",
   "pygments_lexer": "ipython3",
   "version": "3.9.12"
  }
 },
 "nbformat": 4,
 "nbformat_minor": 5
}
